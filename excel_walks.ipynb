{
 "cells": [
  {
   "cell_type": "code",
   "execution_count": 3,
   "id": "8c2ec5d6-3c79-4a25-b6b1-d555d2c17ef5",
   "metadata": {},
   "outputs": [
    {
     "name": "stdout",
     "output_type": "stream",
     "text": [
      "         date time_start time_end  distance_km     mood weather          notes\n",
      "0  2025-05-23      03:05    03:45          2.8    happy   clear  ran after cat\n",
      "1  2025-05-23      17:10    17:50          3.1     calm  cloudy       met Azor\n",
      "2  2025-05-24      04:00    04:35          3.0  excited   rainy       wet paws\n"
     ]
    }
   ],
   "source": [
    "import pandas as pd # Włącz bibliotekę pandas\n",
    "\n",
    "df = pd.read_csv(\"C://Users//User//Desktop//IT//PYTHON//Mentoring//inne ćwiczenia//excel_walks.csv\") # Wczytaj plik CSV jako tabelę\n",
    "print(df.head()) # Pokaż pierwsze 5 wierszy tej tabeli"
   ]
  },
  {
   "cell_type": "code",
   "execution_count": 7,
   "id": "d4e45ddc-3587-46a3-9887-433bd2f84402",
   "metadata": {},
   "outputs": [
    {
     "name": "stdout",
     "output_type": "stream",
     "text": [
      "         date          time_start            time_end  duration_min\n",
      "0  2025-05-23 1900-01-01 03:05:00 1900-01-01 03:45:00          40.0\n",
      "1  2025-05-23 1900-01-01 17:10:00 1900-01-01 17:50:00          40.0\n",
      "2  2025-05-24 1900-01-01 04:00:00 1900-01-01 04:35:00          35.0\n"
     ]
    }
   ],
   "source": [
    "# Wczytanie danych\n",
    "df = pd.read_csv(\"C://Users//User//Desktop//IT//PYTHON//Mentoring//inne ćwiczenia//excel_walks.csv\")\n",
    "\n",
    "# Konwersja kolumn na czas\n",
    "df['time_start'] = pd.to_datetime(df['time_start'], format=\"%H:%M\")\n",
    "df['time_end'] = pd.to_datetime(df['time_end'], format=\"%H:%M\")\n",
    "\n",
    "# Oblicz czas trwania w minutach\n",
    "df['duration_min'] = (df['time_end'] - df['time_start']).dt.total_seconds() / 60\n",
    "\n",
    "# Podgląd efektu\n",
    "print(df[['date', 'time_start', 'time_end', 'duration_min']])"
   ]
  },
  {
   "cell_type": "code",
   "execution_count": 9,
   "id": "6a5493b7-169c-4d38-bbb8-a6dbcd0d50e1",
   "metadata": {},
   "outputs": [
    {
     "name": "stdout",
     "output_type": "stream",
     "text": [
      "         date  distance_km  duration_min\n",
      "0  2025-05-23          5.9          80.0\n",
      "1  2025-05-24          3.0          35.0\n"
     ]
    }
   ],
   "source": [
    "# Grupowanie po dacie\n",
    "summary = df.groupby('date').agg({\n",
    "    'distance_km': 'sum',\n",
    "    'duration_min': 'sum'\n",
    "}).reset_index()\n",
    "\n",
    "# Wyświetlenie podsumowania\n",
    "print(summary)"
   ]
  },
  {
   "cell_type": "code",
   "execution_count": 11,
   "id": "198af31a-e938-4ad4-b6fc-5d99f30be75d",
   "metadata": {},
   "outputs": [],
   "source": [
    "import pandas as pd\n",
    "\n",
    "# Tworzysz nowy wiersz jako słownik\n",
    "new_walk = {\n",
    "    \"date\": \"2025-05-25\",\n",
    "    \"time_start\": \"05:00\",\n",
    "    \"time_end\": \"05:40\",\n",
    "    \"distance_km\": 3.4,\n",
    "    \"mood\": \"relaxed\",\n",
    "    \"weather\": \"clear\",\n",
    "    \"notes\": \"Excel chased a leaf\"\n",
    "}\n",
    "\n",
    "# Zamieniasz na DataFrame z jednym wierszem\n",
    "new_row = pd.DataFrame([new_walk])\n",
    "\n",
    "# Dopisujesz do istniejącego pliku CSV\n",
    "new_row.to_csv(\"C://Users//User//Desktop//IT//PYTHON//Mentoring//inne ćwiczenia//excel_walks.csv\", mode='a', header=False, index=False)"
   ]
  },
  {
   "cell_type": "code",
   "execution_count": 13,
   "id": "ff710294-d081-46f4-9d09-81cdd9107ee8",
   "metadata": {},
   "outputs": [],
   "source": [
    "new_walk = {\n",
    "    \"date\": \"2025-05-26\",\n",
    "    \"time_start\": \"03:40\",\n",
    "    \"time_end\": \"03:55\",\n",
    "    \"distance_km\": 0.6,\n",
    "    \"mood\": \"sleepy\",\n",
    "    \"weather\": \"rainy\",\n",
    "    \"notes\": \"Excel walked slowly\"\n",
    "}\n",
    "\n",
    "# Zamieniasz na DataFrame z jednym wierszem\n",
    "new_row = pd.DataFrame([new_walk])\n",
    "\n",
    "# Dopisujesz do istniejącego pliku CSV\n",
    "new_row.to_csv(\"C://Users//User//Desktop//IT//PYTHON//Mentoring//inne ćwiczenia//excel_walks.csv\", mode='a', header=False, index=False)"
   ]
  },
  {
   "cell_type": "code",
   "execution_count": 15,
   "id": "521e4c27-29e0-4e6e-91c0-0c6fa921399c",
   "metadata": {},
   "outputs": [
    {
     "data": {
      "text/html": [
       "<div>\n",
       "<style scoped>\n",
       "    .dataframe tbody tr th:only-of-type {\n",
       "        vertical-align: middle;\n",
       "    }\n",
       "\n",
       "    .dataframe tbody tr th {\n",
       "        vertical-align: top;\n",
       "    }\n",
       "\n",
       "    .dataframe thead th {\n",
       "        text-align: right;\n",
       "    }\n",
       "</style>\n",
       "<table border=\"1\" class=\"dataframe\">\n",
       "  <thead>\n",
       "    <tr style=\"text-align: right;\">\n",
       "      <th></th>\n",
       "      <th>date</th>\n",
       "      <th>time_start</th>\n",
       "      <th>time_end</th>\n",
       "      <th>distance_km</th>\n",
       "      <th>mood</th>\n",
       "      <th>weather</th>\n",
       "      <th>notes</th>\n",
       "    </tr>\n",
       "  </thead>\n",
       "  <tbody>\n",
       "    <tr>\n",
       "      <th>0</th>\n",
       "      <td>2025-05-23</td>\n",
       "      <td>03:05</td>\n",
       "      <td>03:45</td>\n",
       "      <td>2.8</td>\n",
       "      <td>happy</td>\n",
       "      <td>clear</td>\n",
       "      <td>ran after cat</td>\n",
       "    </tr>\n",
       "    <tr>\n",
       "      <th>1</th>\n",
       "      <td>2025-05-23</td>\n",
       "      <td>17:10</td>\n",
       "      <td>17:50</td>\n",
       "      <td>3.1</td>\n",
       "      <td>calm</td>\n",
       "      <td>cloudy</td>\n",
       "      <td>met Azor</td>\n",
       "    </tr>\n",
       "    <tr>\n",
       "      <th>2</th>\n",
       "      <td>2025-05-24</td>\n",
       "      <td>04:00</td>\n",
       "      <td>04:35</td>\n",
       "      <td>3.0</td>\n",
       "      <td>excited</td>\n",
       "      <td>rainy</td>\n",
       "      <td>wet paws</td>\n",
       "    </tr>\n",
       "    <tr>\n",
       "      <th>3</th>\n",
       "      <td>2025-05-25</td>\n",
       "      <td>05:00</td>\n",
       "      <td>05:40</td>\n",
       "      <td>3.4</td>\n",
       "      <td>relaxed</td>\n",
       "      <td>clear</td>\n",
       "      <td>Excel chased a leaf</td>\n",
       "    </tr>\n",
       "    <tr>\n",
       "      <th>4</th>\n",
       "      <td>2025-05-26</td>\n",
       "      <td>03:40</td>\n",
       "      <td>03:55</td>\n",
       "      <td>0.6</td>\n",
       "      <td>sleepy</td>\n",
       "      <td>rainy</td>\n",
       "      <td>Excel walked slowly</td>\n",
       "    </tr>\n",
       "  </tbody>\n",
       "</table>\n",
       "</div>"
      ],
      "text/plain": [
       "         date time_start time_end  distance_km     mood weather  \\\n",
       "0  2025-05-23      03:05    03:45          2.8    happy   clear   \n",
       "1  2025-05-23      17:10    17:50          3.1     calm  cloudy   \n",
       "2  2025-05-24      04:00    04:35          3.0  excited   rainy   \n",
       "3  2025-05-25      05:00    05:40          3.4  relaxed   clear   \n",
       "4  2025-05-26      03:40    03:55          0.6   sleepy   rainy   \n",
       "\n",
       "                 notes  \n",
       "0        ran after cat  \n",
       "1             met Azor  \n",
       "2             wet paws  \n",
       "3  Excel chased a leaf  \n",
       "4  Excel walked slowly  "
      ]
     },
     "execution_count": 15,
     "metadata": {},
     "output_type": "execute_result"
    }
   ],
   "source": [
    "pd.read_csv(\"C://Users//User//Desktop//IT//PYTHON//Mentoring//inne ćwiczenia//excel_walks.csv\")"
   ]
  },
  {
   "cell_type": "code",
   "execution_count": null,
   "id": "a6064a00-2f5d-4e70-8274-6adf0fc2f1e8",
   "metadata": {},
   "outputs": [],
   "source": []
  }
 ],
 "metadata": {
  "kernelspec": {
   "display_name": "Python [conda env:base] *",
   "language": "python",
   "name": "conda-base-py"
  },
  "language_info": {
   "codemirror_mode": {
    "name": "ipython",
    "version": 3
   },
   "file_extension": ".py",
   "mimetype": "text/x-python",
   "name": "python",
   "nbconvert_exporter": "python",
   "pygments_lexer": "ipython3",
   "version": "3.12.7"
  }
 },
 "nbformat": 4,
 "nbformat_minor": 5
}
