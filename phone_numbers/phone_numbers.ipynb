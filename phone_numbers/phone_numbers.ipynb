{
 "cells": [
  {
   "cell_type": "code",
   "execution_count": 1,
   "id": "013f5853-f61e-4529-bf3c-0e5b4534b8f9",
   "metadata": {},
   "outputs": [
    {
     "data": {
      "text/plain": [
       "'C:\\\\Users\\\\User\\\\Desktop\\\\IT\\\\PYTHON\\\\Mentoring\\\\inne ćwiczenia\\\\phone_numbers'"
      ]
     },
     "execution_count": 1,
     "metadata": {},
     "output_type": "execute_result"
    }
   ],
   "source": [
    "pwd"
   ]
  },
  {
   "cell_type": "code",
   "execution_count": 3,
   "id": "9e32ed38-8c1d-4240-aa66-7b543f885fcb",
   "metadata": {},
   "outputs": [],
   "source": [
    "import PyPDF2"
   ]
  },
  {
   "cell_type": "code",
   "execution_count": 5,
   "id": "85d3448c-92fe-4823-beb1-23f3b40ea4df",
   "metadata": {},
   "outputs": [],
   "source": [
    "f = open('sample_phone_pdf.pdf', 'rb')"
   ]
  },
  {
   "cell_type": "code",
   "execution_count": 7,
   "id": "35bd1d34-07e0-4426-bf80-698ee1ae0b0e",
   "metadata": {},
   "outputs": [],
   "source": [
    "pdf_reader = PyPDF2.PdfReader(f)"
   ]
  },
  {
   "cell_type": "code",
   "execution_count": 9,
   "id": "4e7593e0-79a9-4cbc-a6c9-551cb86ec86f",
   "metadata": {},
   "outputs": [
    {
     "data": {
      "text/plain": [
       "1"
      ]
     },
     "execution_count": 9,
     "metadata": {},
     "output_type": "execute_result"
    }
   ],
   "source": [
    "len(pdf_reader.pages)"
   ]
  },
  {
   "cell_type": "code",
   "execution_count": 11,
   "id": "25e55718-71c4-4f85-866f-1f0ad8551b6b",
   "metadata": {},
   "outputs": [],
   "source": [
    "page = pdf_reader.pages[0]"
   ]
  },
  {
   "cell_type": "code",
   "execution_count": 13,
   "id": "f0e0303b-d255-4793-baba-cf2ae4d870a3",
   "metadata": {},
   "outputs": [],
   "source": [
    "pdf_text = page.extract_text"
   ]
  },
  {
   "cell_type": "code",
   "execution_count": 15,
   "id": "ac1e35f6-5d15-4468-919e-ae19ecf3f897",
   "metadata": {},
   "outputs": [
    {
     "data": {
      "text/plain": [
       "'Telefon do klienta: +48 123-456-789\\nNumer kontaktowy: 123.456.789\\nNumer kontaktowy: 123 456 789\\nSkontaktuj sie z nami: 123.456.789\\nNumer kontaktowy: 123.456.789\\nNumer kontaktowy: (123) 456-789\\nSkontaktuj sie z nami: 123 456 789\\nNumer kontaktowy: 123.456.789\\nPilny kontakt: 123 456 789\\nZadzwon do mnie jutro. (123) 456-789'"
      ]
     },
     "execution_count": 15,
     "metadata": {},
     "output_type": "execute_result"
    }
   ],
   "source": [
    "pdf_text(0)"
   ]
  },
  {
   "cell_type": "code",
   "execution_count": 17,
   "id": "3de3e289-6aae-450b-b6b6-f9d462ac4c46",
   "metadata": {},
   "outputs": [],
   "source": [
    "import re"
   ]
  },
  {
   "cell_type": "code",
   "execution_count": 19,
   "id": "8727538b-38bf-48f9-8a91-c3204e6a2d4f",
   "metadata": {},
   "outputs": [],
   "source": [
    "pattern = r\"\"\"\n",
    "    (?:\\+?\\d{1,3}[\\s.-]?)?    # opcjonalny kod kraju, np. +48\n",
    "    \\(?\\d{3}\\)?               # 3 cyfry, opcjonalnie w nawiasach\n",
    "    [\\s.-]?                   # opcjonalna spacja, kropka lub myślnik\n",
    "    \\d{3}                     # kolejne 3 cyfry\n",
    "    [\\s.-]?                   # opcjonalna spacja, kropka lub myślnik\n",
    "    \\d{3,4}                   # ostatnie 3 lub 4 cyfry\n",
    "\"\"\""
   ]
  },
  {
   "cell_type": "code",
   "execution_count": 21,
   "id": "1b2080ce-454b-4b03-aeb0-2b08f0f15aa4",
   "metadata": {},
   "outputs": [],
   "source": [
    "matches = re.findall(pattern, pdf_text(0), re.VERBOSE)"
   ]
  },
  {
   "cell_type": "code",
   "execution_count": 23,
   "id": "9477e500-4269-4f6e-a814-38fe5d5cec0a",
   "metadata": {},
   "outputs": [
    {
     "data": {
      "text/plain": [
       "['+48 123-456-789',\n",
       " '123.456.789',\n",
       " '123 456 789',\n",
       " '123.456.789',\n",
       " '123.456.789',\n",
       " '(123) 456-789',\n",
       " '123 456 789',\n",
       " '123.456.789',\n",
       " '123 456 789',\n",
       " '(123) 456-789']"
      ]
     },
     "execution_count": 23,
     "metadata": {},
     "output_type": "execute_result"
    }
   ],
   "source": [
    "matches"
   ]
  },
  {
   "cell_type": "code",
   "execution_count": 25,
   "id": "4e67421f-7e07-4494-8f41-9a200b6d78f1",
   "metadata": {},
   "outputs": [],
   "source": [
    "import csv"
   ]
  },
  {
   "cell_type": "code",
   "execution_count": 27,
   "id": "b58c6717-932b-4f6d-a664-1b901cc241b5",
   "metadata": {},
   "outputs": [],
   "source": [
    "with open('new_file_with_numbers.csv', mode='w', newline='', encoding='utf-8') as file:\n",
    "    writer = csv.writer(file)\n",
    "    writer.writerow([\"Numer telefonu\"])  # nagłówek\n",
    "    for number in matches:\n",
    "        writer.writerow([number])"
   ]
  },
  {
   "cell_type": "code",
   "execution_count": null,
   "id": "15ea1e7e-4ab1-4af8-b7b5-ec0a3614e15b",
   "metadata": {},
   "outputs": [],
   "source": []
  },
  {
   "cell_type": "code",
   "execution_count": null,
   "id": "ff4f314e-44ec-492f-955e-b558fb25c655",
   "metadata": {},
   "outputs": [],
   "source": []
  },
  {
   "cell_type": "code",
   "execution_count": null,
   "id": "bc5bcd9d-2e44-47fd-ac28-02f0482c2bcf",
   "metadata": {},
   "outputs": [],
   "source": []
  }
 ],
 "metadata": {
  "kernelspec": {
   "display_name": "Python [conda env:base] *",
   "language": "python",
   "name": "conda-base-py"
  },
  "language_info": {
   "codemirror_mode": {
    "name": "ipython",
    "version": 3
   },
   "file_extension": ".py",
   "mimetype": "text/x-python",
   "name": "python",
   "nbconvert_exporter": "python",
   "pygments_lexer": "ipython3",
   "version": "3.12.7"
  }
 },
 "nbformat": 4,
 "nbformat_minor": 5
}
